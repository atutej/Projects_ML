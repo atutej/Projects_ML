{
 "cells": [
  {
   "cell_type": "code",
   "execution_count": 16,
   "metadata": {
    "colab": {
     "base_uri": "https://localhost:8080/",
     "height": 34
    },
    "colab_type": "code",
    "id": "H_6Srj_o_br7",
    "outputId": "67dab2c0-9c83-45ee-be47-70dd6ad3911a"
   },
   "outputs": [
    {
     "name": "stdout",
     "output_type": "stream",
     "text": [
      "Drive already mounted at /content/drive; to attempt to forcibly remount, call drive.mount(\"/content/drive\", force_remount=True).\n"
     ]
    }
   ],
   "source": [
    "from google.colab import drive\n",
    "drive.mount('/content/drive')"
   ]
  },
  {
   "cell_type": "code",
   "execution_count": 0,
   "metadata": {
    "colab": {},
    "colab_type": "code",
    "id": "Y_DAl8T2_33k"
   },
   "outputs": [],
   "source": [
    "import pandas as pd\n",
    "import numpy as np\n",
    "import keras\n",
    "import cv2 as cv"
   ]
  },
  {
   "cell_type": "code",
   "execution_count": 0,
   "metadata": {
    "colab": {},
    "colab_type": "code",
    "id": "VYjGAafKDmN_"
   },
   "outputs": [],
   "source": [
    "df=pd.read_csv('/content/drive/My Drive/MOVIE POSTER CHALLENGE/movie_poster.csv')"
   ]
  },
  {
   "cell_type": "code",
   "execution_count": 19,
   "metadata": {
    "colab": {
     "base_uri": "https://localhost:8080/",
     "height": 278
    },
    "colab_type": "code",
    "id": "YAecfj69F8Oc",
    "outputId": "3a2d83ab-0cdc-423f-a5f2-2dcdba89393c"
   },
   "outputs": [
    {
     "name": "stdout",
     "output_type": "stream",
     "text": [
      "            tid  ... romance\n",
      "0     tt0120737  ...   False\n",
      "1     tt0167260  ...   False\n",
      "2     tt0167261  ...   False\n",
      "3     tt0169102  ...   False\n",
      "4     tt0211915  ...    True\n",
      "...         ...  ...     ...\n",
      "2450  tt1692486  ...   False\n",
      "2451  tt1695360  ...   False\n",
      "2452  tt1696202  ...   False\n",
      "2453  tt1699202  ...   False\n",
      "2454  tt1699513  ...   False\n",
      "\n",
      "[2455 rows x 9 columns]\n",
      "2455\n"
     ]
    }
   ],
   "source": [
    "print(df)\n",
    "print((len(df)))"
   ]
  },
  {
   "cell_type": "code",
   "execution_count": 0,
   "metadata": {
    "colab": {},
    "colab_type": "code",
    "id": "vB4mwqJ97iWF"
   },
   "outputs": [],
   "source": [
    "from sklearn.model_selection import train_test_split\n",
    "train, test = train_test_split(df, test_size=0.2)"
   ]
  },
  {
   "cell_type": "code",
   "execution_count": 0,
   "metadata": {
    "colab": {},
    "colab_type": "code",
    "id": "-rZBVMV9I3Jo"
   },
   "outputs": [],
   "source": [
    "dfY_train=train.drop(columns=['tid','title','url','image_url','year'])\n",
    "dfY_train=dfY_train.astype(int)\n",
    "dfY_test=test.drop(columns=['tid','title','url','image_url','year'])\n",
    "dfY_test=dfY_test.astype(int)"
   ]
  },
  {
   "cell_type": "code",
   "execution_count": 22,
   "metadata": {
    "colab": {
     "base_uri": "https://localhost:8080/",
     "height": 225
    },
    "colab_type": "code",
    "id": "6k7zruMzQqWl",
    "outputId": "847b1c51-7b46-4547-ee3e-2dbf8d3cb253"
   },
   "outputs": [
    {
     "name": "stdout",
     "output_type": "stream",
     "text": [
      "      action  scifi  drama  romance\n",
      "2135       1      0      1        0\n",
      "609        0      0      1        0\n",
      "1230       0      0      1        1\n",
      "455        1      0      0        0\n",
      "695        1      0      0        0\n",
      "      action  scifi  drama  romance\n",
      "842        1      0      0        0\n",
      "234        0      0      1        0\n",
      "2448       1      0      0        0\n",
      "1028       0      0      1        0\n",
      "2199       0      0      1        0\n"
     ]
    }
   ],
   "source": [
    "print(dfY_train.head())\n",
    "print(dfY_test.head())"
   ]
  },
  {
   "cell_type": "code",
   "execution_count": 23,
   "metadata": {
    "colab": {
     "base_uri": "https://localhost:8080/",
     "height": 451
    },
    "colab_type": "code",
    "id": "XunmpKEPouOW",
    "outputId": "8f1e1afe-79a8-423c-8fcf-5ff983b6495e"
   },
   "outputs": [
    {
     "name": "stdout",
     "output_type": "stream",
     "text": [
      "0\n",
      "100\n",
      "200\n",
      "300\n",
      "400\n",
      "500\n",
      "600\n",
      "700\n",
      "800\n",
      "900\n",
      "1000\n",
      "1100\n",
      "1200\n",
      "1300\n",
      "1400\n",
      "1500\n",
      "1600\n",
      "1700\n",
      "1800\n",
      "1900\n",
      "0\n",
      "100\n",
      "200\n",
      "300\n",
      "400\n"
     ]
    }
   ],
   "source": [
    "dfX_train=train['tid']\n",
    "X_train=[]\n",
    "Y_train=[]\n",
    "for tid in range(len(dfX_train)):\n",
    " try:\n",
    "  path='/content/drive/My Drive/MOVIE POSTER CHALLENGE/posters/'+str(dfX_train.iloc[tid])+'.jpg'\n",
    "  img=cv.imread(path)\n",
    "  img=cv.resize(img,(100,100))\n",
    "  img=img/255\n",
    "  if(tid%100==0):\n",
    "   print(tid)\n",
    "  X_train.append(img)\n",
    "  Y_train.append(dfY_train.iloc[tid])\n",
    " except: pass\n",
    "\n",
    "dfX_test=test['tid']\n",
    "X_test=[]\n",
    "Y_test=[]\n",
    "for tid in range(len(dfX_test)):\n",
    " try:\n",
    "  path='/content/drive/My Drive/MOVIE POSTER CHALLENGE/posters/'+str(dfX_test.iloc[tid])+'.jpg'\n",
    "  img=cv.imread(path)\n",
    "  img=cv.resize(img,(100,100))\n",
    "  img=img/255\n",
    "  if(tid%100==0):\n",
    "   print(tid)\n",
    "  X_test.append(img)\n",
    "  Y_test.append(dfY_test.iloc[tid])\n",
    " except: pass"
   ]
  },
  {
   "cell_type": "code",
   "execution_count": 24,
   "metadata": {
    "colab": {
     "base_uri": "https://localhost:8080/",
     "height": 260
    },
    "colab_type": "code",
    "id": "tSaMbMLNyaWb",
    "outputId": "4dd74005-3b61-4988-8217-d7c7023205db"
   },
   "outputs": [
    {
     "name": "stdout",
     "output_type": "stream",
     "text": [
      "[[1 0 1 0]\n",
      " [0 0 1 0]\n",
      " [0 0 1 1]\n",
      " ...\n",
      " [1 0 0 0]\n",
      " [0 0 1 0]\n",
      " [1 1 0 0]]\n",
      "[[1 0 0 0]\n",
      " [0 0 1 0]\n",
      " [1 0 0 0]\n",
      " ...\n",
      " [0 0 1 0]\n",
      " [1 0 1 0]\n",
      " [0 1 1 0]]\n"
     ]
    }
   ],
   "source": [
    "#Y_train=Y_train.drop(columns=['tid'])\n",
    "Y_train=np.array(Y_train)\n",
    "print(Y_train)\n",
    "Y_test=np.array(Y_test)\n",
    "print(Y_test)"
   ]
  },
  {
   "cell_type": "code",
   "execution_count": 25,
   "metadata": {
    "colab": {
     "base_uri": "https://localhost:8080/",
     "height": 86
    },
    "colab_type": "code",
    "id": "O09-OLAQ_dOg",
    "outputId": "255ac58f-6527-47b8-b69b-42ad0b29fd49"
   },
   "outputs": [
    {
     "name": "stdout",
     "output_type": "stream",
     "text": [
      "(1947, 100, 100, 3)\n",
      "(1947, 4)\n",
      "(489, 100, 100, 3)\n",
      "(489, 4)\n"
     ]
    }
   ],
   "source": [
    "X_train=np.array(X_train)\n",
    "print(X_train.shape)\n",
    "print(Y_train.shape)\n",
    "X_test=np.array(X_test)\n",
    "print(X_test.shape)\n",
    "print(Y_test.shape)"
   ]
  },
  {
   "cell_type": "code",
   "execution_count": 0,
   "metadata": {
    "colab": {},
    "colab_type": "code",
    "id": "xTDUrEXw_6UI"
   },
   "outputs": [],
   "source": [
    "from keras.models import Model,Sequential\n",
    "from keras.layers import Dense,Activation, Dropout, Flatten\n",
    "from keras.layers import Conv2D, MaxPooling2D, BatchNormalization,Input"
   ]
  },
  {
   "cell_type": "code",
   "execution_count": 0,
   "metadata": {
    "colab": {},
    "colab_type": "code",
    "id": "Z6Wshc_yABKx"
   },
   "outputs": [],
   "source": [
    " model=Sequential()\n",
    " #img=Input(shape=(96,96,3),dtype='float32')\n",
    " model.add(Conv2D(16, kernel_size=(3, 3), activation='relu'))\n",
    " model.add(Conv2D(16, (3, 3), activation='relu'))\n",
    " model.add(MaxPooling2D(pool_size=(2, 2)))\n",
    " model.add(Dropout(0.4))\n",
    "\n",
    " model.add(Conv2D(16, kernel_size=(3, 3), activation='relu'))\n",
    " model.add(Conv2D(16, (5, 5), activation='relu'))\n",
    " model.add(MaxPooling2D(pool_size=(2, 2)))\n",
    " model.add(Dropout(0.4))\n",
    "\n",
    " model.add(Flatten())\n",
    " model.add(Dense(64, activation='relu'))\n",
    " model.add(Dropout(0.6))\n",
    " model.add(Dense(4,activation='sigmoid'))"
   ]
  },
  {
   "cell_type": "code",
   "execution_count": 0,
   "metadata": {
    "colab": {},
    "colab_type": "code",
    "id": "Xy5Oh0wlAcbV"
   },
   "outputs": [],
   "source": [
    "model.compile(loss='binary_crossentropy',optimizer=keras.optimizers.Adam(),metrics=['accuracy'])"
   ]
  },
  {
   "cell_type": "code",
   "execution_count": 43,
   "metadata": {
    "colab": {
     "base_uri": "https://localhost:8080/",
     "height": 1000
    },
    "colab_type": "code",
    "id": "SGJs3oUyAjKu",
    "outputId": "618bcfe3-5170-45a3-8afa-fad81de45d4c"
   },
   "outputs": [
    {
     "name": "stdout",
     "output_type": "stream",
     "text": [
      "Train on 1947 samples, validate on 489 samples\n",
      "Epoch 1/30\n",
      "1947/1947 [==============================] - 1s 460us/step - loss: 0.3314 - acc: 0.8469 - val_loss: 0.5465 - val_acc: 0.7873\n",
      "Epoch 2/30\n",
      "1947/1947 [==============================] - 1s 432us/step - loss: 0.3106 - acc: 0.8530 - val_loss: 0.5822 - val_acc: 0.7837\n",
      "Epoch 3/30\n",
      "1947/1947 [==============================] - 1s 428us/step - loss: 0.3049 - acc: 0.8576 - val_loss: 0.5969 - val_acc: 0.7914\n",
      "Epoch 4/30\n",
      "1947/1947 [==============================] - 1s 438us/step - loss: 0.3065 - acc: 0.8579 - val_loss: 0.5852 - val_acc: 0.7837\n",
      "Epoch 5/30\n",
      "1947/1947 [==============================] - 1s 438us/step - loss: 0.3100 - acc: 0.8604 - val_loss: 0.5809 - val_acc: 0.7776\n",
      "Epoch 6/30\n",
      "1947/1947 [==============================] - 1s 435us/step - loss: 0.2902 - acc: 0.8611 - val_loss: 0.5558 - val_acc: 0.7817\n",
      "Epoch 7/30\n",
      "1947/1947 [==============================] - 1s 430us/step - loss: 0.2838 - acc: 0.8731 - val_loss: 0.6371 - val_acc: 0.7827\n",
      "Epoch 8/30\n",
      "1947/1947 [==============================] - 1s 429us/step - loss: 0.2833 - acc: 0.8685 - val_loss: 0.6144 - val_acc: 0.7904\n",
      "Epoch 9/30\n",
      "1947/1947 [==============================] - 1s 434us/step - loss: 0.2776 - acc: 0.8722 - val_loss: 0.6225 - val_acc: 0.7807\n",
      "Epoch 10/30\n",
      "1947/1947 [==============================] - 1s 442us/step - loss: 0.2729 - acc: 0.8715 - val_loss: 0.6344 - val_acc: 0.7771\n",
      "Epoch 11/30\n",
      "1947/1947 [==============================] - 1s 431us/step - loss: 0.2558 - acc: 0.8803 - val_loss: 0.6845 - val_acc: 0.7878\n",
      "Epoch 12/30\n",
      "1947/1947 [==============================] - 1s 434us/step - loss: 0.2570 - acc: 0.8785 - val_loss: 0.6986 - val_acc: 0.7725\n",
      "Epoch 13/30\n",
      "1947/1947 [==============================] - 1s 439us/step - loss: 0.2595 - acc: 0.8772 - val_loss: 0.6916 - val_acc: 0.7756\n",
      "Epoch 14/30\n",
      "1947/1947 [==============================] - 1s 433us/step - loss: 0.2516 - acc: 0.8841 - val_loss: 0.6395 - val_acc: 0.7766\n",
      "Epoch 15/30\n",
      "1947/1947 [==============================] - 1s 439us/step - loss: 0.2609 - acc: 0.8846 - val_loss: 0.6354 - val_acc: 0.7858\n",
      "Epoch 16/30\n",
      "1947/1947 [==============================] - 1s 459us/step - loss: 0.2509 - acc: 0.8830 - val_loss: 0.6693 - val_acc: 0.7786\n",
      "Epoch 17/30\n",
      "1947/1947 [==============================] - 1s 432us/step - loss: 0.2495 - acc: 0.8825 - val_loss: 0.6748 - val_acc: 0.7797\n",
      "Epoch 18/30\n",
      "1947/1947 [==============================] - 1s 436us/step - loss: 0.2464 - acc: 0.8857 - val_loss: 0.6601 - val_acc: 0.7797\n",
      "Epoch 19/30\n",
      "1947/1947 [==============================] - 1s 431us/step - loss: 0.2336 - acc: 0.8920 - val_loss: 0.7051 - val_acc: 0.7827\n",
      "Epoch 20/30\n",
      "1947/1947 [==============================] - 1s 432us/step - loss: 0.2382 - acc: 0.8874 - val_loss: 0.7499 - val_acc: 0.7832\n",
      "Epoch 21/30\n",
      "1947/1947 [==============================] - 1s 446us/step - loss: 0.2370 - acc: 0.8938 - val_loss: 0.6879 - val_acc: 0.7761\n",
      "Epoch 22/30\n",
      "1947/1947 [==============================] - 1s 432us/step - loss: 0.2314 - acc: 0.8934 - val_loss: 0.6487 - val_acc: 0.7802\n",
      "Epoch 23/30\n",
      "1947/1947 [==============================] - 1s 429us/step - loss: 0.2259 - acc: 0.8960 - val_loss: 0.7115 - val_acc: 0.7827\n",
      "Epoch 24/30\n",
      "1947/1947 [==============================] - 1s 430us/step - loss: 0.2359 - acc: 0.8928 - val_loss: 0.7016 - val_acc: 0.7740\n",
      "Epoch 25/30\n",
      "1947/1947 [==============================] - 1s 438us/step - loss: 0.2294 - acc: 0.8932 - val_loss: 0.6842 - val_acc: 0.7802\n",
      "Epoch 26/30\n",
      "1947/1947 [==============================] - 1s 455us/step - loss: 0.2296 - acc: 0.8919 - val_loss: 0.7306 - val_acc: 0.7807\n",
      "Epoch 27/30\n",
      "1947/1947 [==============================] - 1s 441us/step - loss: 0.2204 - acc: 0.8973 - val_loss: 0.7597 - val_acc: 0.7873\n",
      "Epoch 28/30\n",
      "1947/1947 [==============================] - 1s 427us/step - loss: 0.2004 - acc: 0.9059 - val_loss: 0.7612 - val_acc: 0.7791\n",
      "Epoch 29/30\n",
      "1947/1947 [==============================] - 1s 435us/step - loss: 0.2218 - acc: 0.8948 - val_loss: 0.7022 - val_acc: 0.7756\n",
      "Epoch 30/30\n",
      "1947/1947 [==============================] - 1s 437us/step - loss: 0.2135 - acc: 0.8998 - val_loss: 0.6982 - val_acc: 0.7802\n"
     ]
    },
    {
     "data": {
      "text/plain": [
       "<keras.callbacks.History at 0x7f66dca7f208>"
      ]
     },
     "execution_count": 43,
     "metadata": {
      "tags": []
     },
     "output_type": "execute_result"
    }
   ],
   "source": [
    "model.fit((X_train),Y_train , batch_size=32,validation_data=(X_test,Y_test), epochs=30,class_weight='auto')"
   ]
  },
  {
   "cell_type": "code",
   "execution_count": 37,
   "metadata": {
    "colab": {
     "base_uri": "https://localhost:8080/",
     "height": 69
    },
    "colab_type": "code",
    "id": "uNEIlz0p-xVL",
    "outputId": "f4da857e-d73e-47aa-bc12-7dcc4996ed95"
   },
   "outputs": [
    {
     "name": "stdout",
     "output_type": "stream",
     "text": [
      "489/489 [==============================] - 0s 199us/step\n",
      "Loss= 0.5759162306176129\n",
      "Accuracy= 0.7837423314102344\n"
     ]
    }
   ],
   "source": [
    "loss,acc=model.evaluate(X_test,Y_test)\n",
    "\n",
    "print(\"Loss=\",loss)\n",
    "print(\"Accuracy=\",acc)"
   ]
  },
  {
   "cell_type": "code",
   "execution_count": 44,
   "metadata": {
    "colab": {
     "base_uri": "https://localhost:8080/",
     "height": 34
    },
    "colab_type": "code",
    "id": "6BURCXu7mtVg",
    "outputId": "1b602ca3-da01-4b28-868a-4ca3db290712"
   },
   "outputs": [
    {
     "name": "stdout",
     "output_type": "stream",
     "text": [
      "[[0.92872304 0.13080809 0.00360531 0.29286918]]\n"
     ]
    }
   ],
   "source": [
    "overclockwise='tt1642359'\n",
    "amazingspidey='tt0948470'\n",
    "solomonkane='tt0970452'\n",
    "tintin='tt0983193'\n",
    "bekushiru='tt0970472'\n",
    "justiceleague='tt0974015'\n",
    "bountyhunter='tt1038919'\n",
    "path='/content/drive/My Drive/MOVIE POSTER CHALLENGE/posters/'+bountyhunter+'.jpg'\n",
    "img=cv.imread(path)\n",
    "img=cv.resize(img,(100,100))\n",
    "img=img/255\n",
    "test=[]\n",
    "test.append(img)\n",
    "test=np.array(test)\n",
    "print(model.predict(test))"
   ]
  }
 ],
 "metadata": {
  "accelerator": "GPU",
  "colab": {
   "collapsed_sections": [],
   "name": "Copy of PosterGenre.ipynb",
   "provenance": []
  },
  "kernelspec": {
   "display_name": "Python 3",
   "language": "python",
   "name": "python3"
  },
  "language_info": {
   "codemirror_mode": {
    "name": "ipython",
    "version": 3
   },
   "file_extension": ".py",
   "mimetype": "text/x-python",
   "name": "python",
   "nbconvert_exporter": "python",
   "pygments_lexer": "ipython3",
   "version": "3.6.9"
  }
 },
 "nbformat": 4,
 "nbformat_minor": 1
}
