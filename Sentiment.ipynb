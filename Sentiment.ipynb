{
 "cells": [
  {
   "cell_type": "code",
   "execution_count": 3,
   "metadata": {},
   "outputs": [],
   "source": [
    "import numpy as np\n",
    "from numpy.testing import assert_allclose \n",
    "import keras\n",
    "from keras.models import Model\n",
    "from keras import regularizers\n",
    "from keras.models import load_model\n",
    "from keras.layers import Dense, Input, Dropout, LSTM, Activation, RNN, Bidirectional\n",
    "from keras.layers.embeddings import Embedding\n",
    "from keras.preprocessing import sequence\n",
    "from keras.initializers import glorot_uniform\n",
    "from keras.callbacks.callbacks import ModelCheckpoint\n",
    "import pandas as pd\n",
    "#from emo_utils import *"
   ]
  },
  {
   "cell_type": "code",
   "execution_count": 4,
   "metadata": {},
   "outputs": [
    {
     "name": "stdout",
     "output_type": "stream",
     "text": [
      "[0 1 0 ... 1 1 0]\n"
     ]
    }
   ],
   "source": [
    "df=pd.read_csv(\"/home/atswi/Downloads/imdb_master1.csv\",dtype=str)\n",
    "cols=[4,5,6,7,8,9,10]\n",
    "df.drop(df.columns[cols],axis=1,inplace=True)\n",
    "\n",
    "max_len = 250\n",
    "#len(max(df['review'], key=len).split())\n",
    "df_train1=df.loc[df['type']=='train']\n",
    "df_train=df_train1.loc[df['label']!='unsup']\n",
    "df_train_pos=df_train.loc[df['label']=='pos']\n",
    "df_train_neg=df_train.loc[df['label']=='neg']\n",
    "frames=[df_train_pos,df_train_neg]\n",
    "df_train=pd.concat(frames)\n",
    "df_train = df_train.sample(frac=1).reset_index(drop=True)\n",
    "df_test=df.loc[df['type']=='test']\n",
    "df_test_pos=df_test.loc[df['label']=='pos']\n",
    "df_test_neg=df_test.loc[df['label']=='neg']\n",
    "frames=[df_test_pos,df_test_neg]\n",
    "df_test=pd.concat(frames)\n",
    "df_test = df_test.sample(frac=1).reset_index(drop=True)\n",
    "\n",
    "X_train=df_train['review']\n",
    "Y_train1=df_train['label']\n",
    "Y_train1=Y_train1.replace((\"neg\",\"pos\"),(0,1))\n",
    "X_test=df_test['review']\n",
    "Y_test1=df_test['label']\n",
    "Y_test1=Y_test1.replace((\"neg\",\"pos\"),(0,1))\n",
    "Y_train=Y_train1.to_numpy()\n",
    "print(Y_train)\n",
    "Y_test=Y_test1.to_numpy()\n",
    "X_train=np.asarray(X_train)\n",
    "X_test=np.asarray(X_test)\n",
    "#X_train=X_train[0:4000]\n",
    "#Y_train=Y_train[0:4000]"
   ]
  },
  {
   "cell_type": "code",
   "execution_count": 4,
   "metadata": {},
   "outputs": [],
   "source": [
    "word_to_index, index_to_word, word_to_vec_map=read_glove_vecs(\"/home/atswi/Documents/glove.6B.100d.txt\")"
   ]
  },
  {
   "cell_type": "code",
   "execution_count": 5,
   "metadata": {},
   "outputs": [],
   "source": [
    "def string_to_indices(X,word_to_index,max_len):\n",
    "\n",
    " m=len(X)\n",
    "\n",
    " X_indices=np.zeros((m,max_len))\n",
    "\n",
    " for i in range(m):\n",
    "\n",
    "   string_words = [p.lower() for p in X[i].split()]\n",
    "\n",
    "   j=0\n",
    "\n",
    "   for w in string_words:\n",
    "    try:\n",
    "       X_indices[i,j]=word_to_index[w]\n",
    "       j=j+1\n",
    "       if(j==max_len):\n",
    "        break\n",
    "    except: KeyError\n",
    " return X_indices\n",
    "\n",
    "\n",
    "def pretrained_embedding_layer(word_to_vec_map,word_to_index):\n",
    "    vocab_len = len(word_to_index)+1\n",
    "    emb_dim = 100\n",
    "\n",
    "    emb_matrix=np.zeros((vocab_len,emb_dim))\n",
    "\n",
    "    for word,idx in word_to_index.items():\n",
    "        emb_matrix[idx, :]=word_to_vec_map[word]\n",
    "\n",
    "    embedding_layer = Embedding(vocab_len,emb_dim)\n",
    "    #embeddings_initializer='glorot_normal'\n",
    "\n",
    "    embedding_layer.build((None,))\n",
    "\n",
    "    embedding_layer.set_weights([emb_matrix])\n",
    "\n",
    "    return embedding_layer\n"
   ]
  },
  {
   "cell_type": "code",
   "execution_count": 6,
   "metadata": {},
   "outputs": [
    {
     "name": "stdout",
     "output_type": "stream",
     "text": [
      "[-0.038194 -0.24487   0.72812  -0.39961   0.083172  0.043953 -0.39141\n",
      "  0.3344   -0.57545   0.087459  0.28787  -0.06731   0.30906  -0.26384\n",
      " -0.13231  -0.20757   0.33395  -0.33848  -0.31743  -0.48336   0.1464\n",
      " -0.37304   0.34577   0.052041  0.44946  -0.46971   0.02628  -0.54155\n",
      " -0.15518  -0.14107  -0.039722  0.28277   0.14393   0.23464  -0.31021\n",
      "  0.086173  0.20397   0.52624   0.17164  -0.082378 -0.71787  -0.41531\n",
      "  0.20335  -0.12763   0.41367   0.55187   0.57908  -0.33477  -0.36559\n",
      " -0.54857  -0.062892  0.26584   0.30205   0.99775  -0.80481  -3.0243\n",
      "  0.01254  -0.36942   2.2167    0.72201  -0.24978   0.92136   0.034514\n",
      "  0.46745   1.1079   -0.19358  -0.074575  0.23353  -0.052062 -0.22044\n",
      "  0.057162 -0.15806  -0.30798  -0.41625   0.37972   0.15006  -0.53212\n",
      " -0.2055   -1.2526    0.071624  0.70565   0.49744  -0.42063   0.26148\n",
      " -1.538    -0.30223  -0.073438 -0.28312   0.37104  -0.25217   0.016215\n",
      " -0.017099 -0.38984   0.87424  -0.72569  -0.51058  -0.52028  -0.1459\n",
      "  0.8278    0.27062 ]\n"
     ]
    }
   ],
   "source": [
    "print(word_to_vec_map['the'])"
   ]
  },
  {
   "cell_type": "code",
   "execution_count": 13,
   "metadata": {},
   "outputs": [],
   "source": [
    "def SentiAnalysis(input_shape, word_to_vec_map, word_to_index):\n",
    "\n",
    "    string_indices= Input(shape=input_shape,dtype='int32')\n",
    "    embedding_layer=pretrained_embedding_layer(word_to_vec_map,word_to_index)\n",
    "    embeddings=embedding_layer(string_indices)\n",
    "    X= Bidirectional(LSTM(units=32,return_sequences=True))(embeddings)\n",
    "    X= Dropout(rate=0.7)(X)\n",
    "    X= Bidirectional(LSTM(units=16,return_sequences=False))(X)\n",
    "    X= Dropout(rate=0.5)(X)\n",
    "    X= Dense(units=1)(X)\n",
    "    X=Activation('sigmoid')(X)\n",
    "\n",
    "    model= Model(inputs=string_indices,outputs=X)\n",
    "\n",
    "    return model"
   ]
  },
  {
   "cell_type": "code",
   "execution_count": 18,
   "metadata": {},
   "outputs": [],
   "source": [
    "filepath = \"model.h5\"\n",
    "checkpoint = ModelCheckpoint(filepath, monitor='loss', verbose=1, save_best_only=True, mode='min')\n",
    "callbacks_list = [checkpoint]"
   ]
  },
  {
   "cell_type": "code",
   "execution_count": 20,
   "metadata": {},
   "outputs": [
    {
     "name": "stdout",
     "output_type": "stream",
     "text": [
      "WARNING:tensorflow:Large dropout rate: 0.7 (>0.5). In TensorFlow 2.x, dropout() uses dropout rate instead of keep_prob. Please ensure that this is intended.\n"
     ]
    },
    {
     "name": "stderr",
     "output_type": "stream",
     "text": [
      "/home/atswi/.local/lib/python3.6/site-packages/tensorflow_core/python/framework/indexed_slices.py:424: UserWarning: Converting sparse IndexedSlices to a dense Tensor of unknown shape. This may consume a large amount of memory.\n",
      "  \"Converting sparse IndexedSlices to a dense Tensor of unknown shape. \"\n"
     ]
    },
    {
     "name": "stdout",
     "output_type": "stream",
     "text": [
      "Epoch 1/20\n",
      "24973/24973 [==============================] - 231s 9ms/step - loss: 0.6862 - accuracy: 0.5484\n",
      "\n",
      "Epoch 00001: loss did not improve from 0.67786\n",
      "Epoch 2/20\n",
      "24973/24973 [==============================] - 228s 9ms/step - loss: 0.6130 - accuracy: 0.6756\n",
      "\n",
      "Epoch 00002: loss improved from 0.67786 to 0.61305, saving model to model.h5\n",
      "Epoch 3/20\n",
      "24973/24973 [==============================] - 226s 9ms/step - loss: 0.4773 - accuracy: 0.7917\n",
      "\n",
      "Epoch 00003: loss improved from 0.61305 to 0.47730, saving model to model.h5\n",
      "Epoch 4/20\n",
      "24973/24973 [==============================] - 218s 9ms/step - loss: 0.4271 - accuracy: 0.8181\n",
      "\n",
      "Epoch 00004: loss improved from 0.47730 to 0.42713, saving model to model.h5\n",
      "Epoch 5/20\n",
      "24973/24973 [==============================] - 230s 9ms/step - loss: 0.3966 - accuracy: 0.8344\n",
      "\n",
      "Epoch 00005: loss improved from 0.42713 to 0.39661, saving model to model.h5\n",
      "Epoch 6/20\n",
      "24973/24973 [==============================] - 229s 9ms/step - loss: 0.3747 - accuracy: 0.8470\n",
      "\n",
      "Epoch 00006: loss improved from 0.39661 to 0.37465, saving model to model.h5\n",
      "Epoch 7/20\n",
      "24973/24973 [==============================] - 215s 9ms/step - loss: 0.3532 - accuracy: 0.8567\n",
      "\n",
      "Epoch 00007: loss improved from 0.37465 to 0.35322, saving model to model.h5\n",
      "Epoch 8/20\n",
      "24973/24973 [==============================] - 211s 8ms/step - loss: 0.3477 - accuracy: 0.8593\n",
      "\n",
      "Epoch 00008: loss improved from 0.35322 to 0.34768, saving model to model.h5\n",
      "Epoch 9/20\n",
      "24973/24973 [==============================] - 211s 8ms/step - loss: 0.3301 - accuracy: 0.8644\n",
      "\n",
      "Epoch 00009: loss improved from 0.34768 to 0.33010, saving model to model.h5\n",
      "Epoch 10/20\n",
      "24973/24973 [==============================] - 208s 8ms/step - loss: 0.3133 - accuracy: 0.8761\n",
      "\n",
      "Epoch 00010: loss improved from 0.33010 to 0.31326, saving model to model.h5\n",
      "Epoch 11/20\n",
      "24973/24973 [==============================] - 211s 8ms/step - loss: 0.3028 - accuracy: 0.8808\n",
      "\n",
      "Epoch 00011: loss improved from 0.31326 to 0.30278, saving model to model.h5\n",
      "Epoch 12/20\n",
      "24973/24973 [==============================] - 209s 8ms/step - loss: 0.2967 - accuracy: 0.8828\n",
      "\n",
      "Epoch 00012: loss improved from 0.30278 to 0.29665, saving model to model.h5\n",
      "Epoch 13/20\n",
      "24973/24973 [==============================] - 211s 8ms/step - loss: 0.2830 - accuracy: 0.8926\n",
      "\n",
      "Epoch 00013: loss improved from 0.29665 to 0.28300, saving model to model.h5\n",
      "Epoch 14/20\n",
      "24973/24973 [==============================] - 214s 9ms/step - loss: 0.2706 - accuracy: 0.8951\n",
      "\n",
      "Epoch 00014: loss improved from 0.28300 to 0.27060, saving model to model.h5\n",
      "Epoch 15/20\n",
      "24973/24973 [==============================] - 210s 8ms/step - loss: 0.2624 - accuracy: 0.9022\n",
      "\n",
      "Epoch 00015: loss improved from 0.27060 to 0.26237, saving model to model.h5\n",
      "Epoch 16/20\n",
      "24973/24973 [==============================] - 209s 8ms/step - loss: 0.2492 - accuracy: 0.9050\n",
      "\n",
      "Epoch 00016: loss improved from 0.26237 to 0.24923, saving model to model.h5\n",
      "Epoch 17/20\n",
      "24973/24973 [==============================] - 209s 8ms/step - loss: 0.2449 - accuracy: 0.9104\n",
      "\n",
      "Epoch 00017: loss improved from 0.24923 to 0.24487, saving model to model.h5\n",
      "Epoch 18/20\n",
      "24973/24973 [==============================] - 209s 8ms/step - loss: 0.2227 - accuracy: 0.9204\n",
      "\n",
      "Epoch 00018: loss improved from 0.24487 to 0.22266, saving model to model.h5\n",
      "Epoch 19/20\n",
      "24973/24973 [==============================] - 211s 8ms/step - loss: 0.2114 - accuracy: 0.9248\n",
      "\n",
      "Epoch 00019: loss improved from 0.22266 to 0.21142, saving model to model.h5\n",
      "Epoch 20/20\n",
      "24973/24973 [==============================] - 216s 9ms/step - loss: 0.2042 - accuracy: 0.9296\n",
      "\n",
      "Epoch 00020: loss improved from 0.21142 to 0.20424, saving model to model.h5\n"
     ]
    },
    {
     "data": {
      "text/plain": [
       "<keras.callbacks.callbacks.History at 0x7fbd2c0efeb8>"
      ]
     },
     "execution_count": 20,
     "metadata": {},
     "output_type": "execute_result"
    }
   ],
   "source": [
    "model = SentiAnalysis((max_len,),word_to_vec_map,word_to_index)\n",
    "\n",
    "#keras.optimizers.Nadam(learning_rate=0.1, beta_1=0.9, beta_2=0.999)\n",
    "model.compile(loss='binary_crossentropy',optimizer=keras.optimizers.SGD(learning_rate=0.03, momentum=0.95, nesterov=False),metrics=['accuracy'])\n",
    "\n",
    "X_train_indices = string_to_indices(X_train,word_to_index,max_len)\n",
    "\n",
    "model.fit(X_train_indices,Y_train,epochs=20,batch_size=100,shuffle=True,callbacks=callbacks_list)"
   ]
  },
  {
   "cell_type": "code",
   "execution_count": 21,
   "metadata": {},
   "outputs": [
    {
     "name": "stdout",
     "output_type": "stream",
     "text": [
      "24982/24982 [==============================] - 101s 4ms/step\n",
      "Loss= 0.39607206166635167\n",
      "Accuracy= 0.8545352816581726\n"
     ]
    }
   ],
   "source": [
    "X_test_indices = string_to_indices(X_test,word_to_index,max_len)\n",
    "loss,acc=model.evaluate(X_test_indices,Y_test)\n",
    "\n",
    "print(\"Loss=\",loss)\n",
    "print(\"Accuracy=\",acc)"
   ]
  },
  {
   "cell_type": "code",
   "execution_count": 28,
   "metadata": {},
   "outputs": [
    {
     "name": "stderr",
     "output_type": "stream",
     "text": [
      "/home/atswi/.local/lib/python3.6/site-packages/tensorflow_core/python/framework/indexed_slices.py:424: UserWarning: Converting sparse IndexedSlices to a dense Tensor of unknown shape. This may consume a large amount of memory.\n",
      "  \"Converting sparse IndexedSlices to a dense Tensor of unknown shape. \"\n"
     ]
    }
   ],
   "source": [
    "new_model = load_model(\"model.h5\")\n",
    "#assert_allclose(model.predict(X_train),new_model.predict(X_train),1e-5)"
   ]
  },
  {
   "cell_type": "code",
   "execution_count": 29,
   "metadata": {},
   "outputs": [],
   "source": [
    "filepath = \"model.h5\"\n",
    "checkpoint = ModelCheckpoint(filepath, monitor='loss', verbose=1, save_best_only=True, mode='min')\n",
    "callbacks_list = [checkpoint]"
   ]
  },
  {
   "cell_type": "code",
   "execution_count": 30,
   "metadata": {},
   "outputs": [
    {
     "name": "stderr",
     "output_type": "stream",
     "text": [
      "/home/atswi/.local/lib/python3.6/site-packages/tensorflow_core/python/framework/indexed_slices.py:424: UserWarning: Converting sparse IndexedSlices to a dense Tensor of unknown shape. This may consume a large amount of memory.\n",
      "  \"Converting sparse IndexedSlices to a dense Tensor of unknown shape. \"\n"
     ]
    },
    {
     "name": "stdout",
     "output_type": "stream",
     "text": [
      "Epoch 1/10\n",
      "24973/24973 [==============================] - 257s 10ms/step - loss: 0.1715 - accuracy: 0.9449\n",
      "\n",
      "Epoch 00001: loss improved from inf to 0.17153, saving model to model.h5\n",
      "Epoch 2/10\n",
      "24973/24973 [==============================] - 247s 10ms/step - loss: 0.1621 - accuracy: 0.9494\n",
      "\n",
      "Epoch 00002: loss improved from 0.17153 to 0.16207, saving model to model.h5\n",
      "Epoch 3/10\n",
      "24973/24973 [==============================] - 251s 10ms/step - loss: 0.1534 - accuracy: 0.9533\n",
      "\n",
      "Epoch 00003: loss improved from 0.16207 to 0.15338, saving model to model.h5\n",
      "Epoch 4/10\n",
      "24973/24973 [==============================] - 251s 10ms/step - loss: 0.1512 - accuracy: 0.9533\n",
      "\n",
      "Epoch 00004: loss improved from 0.15338 to 0.15116, saving model to model.h5\n",
      "Epoch 5/10\n",
      "24973/24973 [==============================] - 249s 10ms/step - loss: 0.1450 - accuracy: 0.9576\n",
      "\n",
      "Epoch 00005: loss improved from 0.15116 to 0.14498, saving model to model.h5\n",
      "Epoch 6/10\n",
      "24973/24973 [==============================] - 247s 10ms/step - loss: 0.1393 - accuracy: 0.9589\n",
      "\n",
      "Epoch 00006: loss improved from 0.14498 to 0.13930, saving model to model.h5\n",
      "Epoch 7/10\n",
      "24973/24973 [==============================] - 242s 10ms/step - loss: 0.1370 - accuracy: 0.9610\n",
      "\n",
      "Epoch 00007: loss improved from 0.13930 to 0.13700, saving model to model.h5\n",
      "Epoch 8/10\n",
      "24973/24973 [==============================] - 246s 10ms/step - loss: 0.1315 - accuracy: 0.9635\n",
      "\n",
      "Epoch 00008: loss improved from 0.13700 to 0.13152, saving model to model.h5\n",
      "Epoch 9/10\n",
      "24973/24973 [==============================] - 241s 10ms/step - loss: 0.1265 - accuracy: 0.9643\n",
      "\n",
      "Epoch 00009: loss improved from 0.13152 to 0.12653, saving model to model.h5\n",
      "Epoch 10/10\n",
      "24973/24973 [==============================] - 238s 10ms/step - loss: 0.1190 - accuracy: 0.9684\n",
      "\n",
      "Epoch 00010: loss improved from 0.12653 to 0.11899, saving model to model.h5\n"
     ]
    },
    {
     "data": {
      "text/plain": [
       "<keras.callbacks.callbacks.History at 0x7fbd30cfcc18>"
      ]
     },
     "execution_count": 30,
     "metadata": {},
     "output_type": "execute_result"
    }
   ],
   "source": [
    "model.compile(loss='binary_crossentropy',optimizer=keras.optimizers.SGD(learning_rate=0.035, momentum=0.8, nesterov=False),metrics=['accuracy'])\n",
    "model.fit(X_train_indices,Y_train,epochs=10,batch_size=100,shuffle=True,callbacks=callbacks_list)"
   ]
  },
  {
   "cell_type": "code",
   "execution_count": 31,
   "metadata": {},
   "outputs": [
    {
     "name": "stdout",
     "output_type": "stream",
     "text": [
      "24982/24982 [==============================] - 102s 4ms/step\n",
      "Loss= 0.5580819603626841\n",
      "Accuracy= 0.8486510515213013\n"
     ]
    }
   ],
   "source": [
    "loss,acc=model.evaluate(X_test_indices,Y_test)\n",
    "\n",
    "print(\"Loss=\",loss)\n",
    "print(\"Accuracy=\",acc)"
   ]
  },
  {
   "cell_type": "code",
   "execution_count": null,
   "metadata": {},
   "outputs": [],
   "source": []
  }
 ],
 "metadata": {
  "kernelspec": {
   "display_name": "Python 3",
   "language": "python",
   "name": "python3"
  },
  "language_info": {
   "codemirror_mode": {
    "name": "ipython",
    "version": 3
   },
   "file_extension": ".py",
   "mimetype": "text/x-python",
   "name": "python",
   "nbconvert_exporter": "python",
   "pygments_lexer": "ipython3",
   "version": "3.6.9"
  }
 },
 "nbformat": 4,
 "nbformat_minor": 2
}
